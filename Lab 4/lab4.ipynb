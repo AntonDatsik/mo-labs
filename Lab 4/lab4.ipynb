{
 "cells": [
  {
   "cell_type": "markdown",
   "metadata": {},
   "source": [
    "# Лабораторная работа №4 “Нейронные сети”\n"
   ]
  },
  {
   "cell_type": "code",
   "execution_count": 39,
   "metadata": {},
   "outputs": [],
   "source": [
    "import numpy as np\n",
    "from scipy.io import loadmat\n",
    "\n",
    "import matplotlib.pyplot as plt\n",
    "import matplotlib.cm as cm\n",
    "\n",
    "%matplotlib inline"
   ]
  },
  {
   "cell_type": "markdown",
   "metadata": {},
   "source": [
    "## 1. Загрузите данные ex4data1.mat из файла."
   ]
  },
  {
   "cell_type": "code",
   "execution_count": 40,
   "metadata": {},
   "outputs": [],
   "source": [
    "mat = loadmat('data/ex4data1.mat')\n",
    "x_train, y_train = mat['X'], mat['y']\n",
    "y_train = y_train.reshape(y_train.shape[0])\n",
    "\n",
    "# replace all 10 to 0\n",
    "y_train = np.where(y_train == 10, 0, y_train)"
   ]
  },
  {
   "cell_type": "markdown",
   "metadata": {},
   "source": [
    "## 2. Загрузите веса нейронной сети из файла ex4weights.mat, который содержит две матрицы Θ(1) (25, 401) и Θ(2) (10, 26). Какова структура полученной нейронной сети?"
   ]
  },
  {
   "cell_type": "code",
   "execution_count": 41,
   "metadata": {},
   "outputs": [],
   "source": [
    "weights = loadmat('data/ex4weights.mat')\n",
    "theta1 = weights['Theta1']\n",
    "theta2 = weights['Theta2']"
   ]
  },
  {
   "cell_type": "markdown",
   "metadata": {},
   "source": [
    "Входной слой: 400 нейронов,\n",
    "Промежуточный слой: 25 нейронов,\n",
    "Выходной слой: 10 нейронов.\n",
    "theta0 - bias unit"
   ]
  },
  {
   "cell_type": "markdown",
   "metadata": {},
   "source": [
    "## 3. Реализуйте функцию прямого распространения с сигмоидом в качестве функции активации."
   ]
  },
  {
   "cell_type": "code",
   "execution_count": 42,
   "metadata": {},
   "outputs": [],
   "source": [
    "s_L = [400, 25, 10]"
   ]
  },
  {
   "cell_type": "code",
   "execution_count": 43,
   "metadata": {},
   "outputs": [],
   "source": [
    "def sigmoid(z):\n",
    "    return 1 / (1 + np.e ** (-z))\n",
    "\n",
    "def insert_ones(x):\n",
    "    if len(x.shape) == 1:\n",
    "        return np.insert(x, 0, 1)\n",
    "    return np.column_stack((np.ones(x.shape[0]), x))\n",
    "\n",
    "def forward_propagation(x, thetas, cache=False):\n",
    "    cur_activation = x.copy()\n",
    "    activations = [cur_activation]\n",
    "\n",
    "    for theta_i in thetas:\n",
    "        temp_a = insert_ones(cur_activation)\n",
    "        z_i = theta_i.dot(temp_a.T).T\n",
    "        cur_activation = sigmoid(z_i)\n",
    "        if cache:\n",
    "            activations.append(cur_activation)\n",
    "\n",
    "    return activations if cache else cur_activation"
   ]
  },
  {
   "cell_type": "code",
   "execution_count": null,
   "metadata": {},
   "outputs": [],
   "source": [
    "def unroll(weights):\n",
    "    result = np.array([])\n",
    "\n",
    "    for theta in weights:\n",
    "        result = np.concatenate((result, theta.flatten()))\n",
    "\n",
    "    return result\n",
    "\n",
    "def roll(weights):\n",
    "    weights = np.array(weights)\n",
    "    thetas = []\n",
    "    left = 0\n",
    "\n",
    "    for i in range(len(s_L) - 1):\n",
    "        x, y = s_L[i + 1], s_L[i] + 1\n",
    "        right = x*y\n",
    "        thetas.append(weights[left:left + right].reshape(x, y))\n",
    "        left = right\n",
    "\n",
    "    return thetas"
   ]
  },
  {
   "cell_type": "markdown",
   "metadata": {},
   "source": [
    "## 4. Вычислите процент правильных классификаций на обучающей выборке. Сравните полученный результат с логистической регрессией."
   ]
  },
  {
   "cell_type": "code",
   "execution_count": 44,
   "metadata": {},
   "outputs": [],
   "source": [
    "def accuracy(predicted, y):\n",
    "    correct_result_count = np.count_nonzero(predicted.argmax(axis=1) - y)\n",
    "    return 1 - correct_result_count / y.shape[0]"
   ]
  },
  {
   "cell_type": "code",
   "execution_count": 45,
   "metadata": {},
   "outputs": [
    {
     "data": {
      "text/plain": [
       "0.0011999999999999789"
      ]
     },
     "execution_count": 45,
     "metadata": {},
     "output_type": "execute_result"
    }
   ],
   "source": [
    "weights = [theta1, theta2]\n",
    "predicted = forward_propagation(x_train, weights)\n",
    "accuracy(predicted, y_train)"
   ]
  },
  {
   "cell_type": "markdown",
   "metadata": {},
   "source": [
    "Как видно из результатов нейронная сеть не обучена. В случае лог регрессии точность была выше 95%."
   ]
  },
  {
   "cell_type": "markdown",
   "metadata": {},
   "source": [
    "## 5. Перекодируйте исходные метки классов по схеме one-hot."
   ]
  },
  {
   "cell_type": "code",
   "execution_count": 46,
   "metadata": {},
   "outputs": [],
   "source": [
    "# |class|    |class1|class2|\n",
    "# |1    | => |1     |0     |\n",
    "# |2    |    |0     |1     |"
   ]
  },
  {
   "cell_type": "code",
   "execution_count": 47,
   "metadata": {},
   "outputs": [],
   "source": [
    "def one_hot(y, classes_count=10):\n",
    "    y_extended = np.zeros((len(y), classes_count))\n",
    "\n",
    "    for i, y_i in enumerate(y):\n",
    "        y_extended[i][y_i] = 1\n",
    "\n",
    "    return y_extended"
   ]
  },
  {
   "cell_type": "code",
   "execution_count": 48,
   "metadata": {},
   "outputs": [],
   "source": [
    "y_one_hot = one_hot(y_train)"
   ]
  },
  {
   "cell_type": "markdown",
   "metadata": {},
   "source": [
    "## 6. Реализуйте функцию стоимости для данной нейронной сети."
   ]
  },
  {
   "cell_type": "markdown",
   "metadata": {},
   "source": [
    "$J(\\Theta) = \\frac{1}{m} \\sum_{i=1}^{m} [ -y^{(i)}log(h_{\\Theta}(x^{(i)})) - (1 - y^{(i)})log(1 - (h_{\\Theta}(x^{(i)}))]$"
   ]
  },
  {
   "cell_type": "code",
   "execution_count": 49,
   "metadata": {},
   "outputs": [],
   "source": [
    "ONE = 1.0 + 1e-15\n",
    "\n",
    "def cost_func(X, y, weights):\n",
    "    total_cost = 0\n",
    "    K = y.shape[1]\n",
    "    hyp = forward_propagation(X, weights)\n",
    "    for k in range(K):\n",
    "        y_k, hyp_k = y[:, k], hyp[:, k]\n",
    "        cost_trues =  y_k * np.log(hyp_k)\n",
    "        cost_falses = (1 - y_k) * np.log(ONE - hyp_k)\n",
    "        cost = cost_trues + cost_falses\n",
    "        total_cost += cost\n",
    "    return -total_cost.sum() / y.shape[0]"
   ]
  },
  {
   "cell_type": "markdown",
   "metadata": {},
   "source": [
    "## 7. Добавьте L2-регуляризацию в функцию стоимости."
   ]
  },
  {
   "cell_type": "markdown",
   "metadata": {},
   "source": [
    "$J(\\Theta) = \\frac{1}{m} \\sum_{i=1}^{m} [ -y^{(i)}log(h_{\\Theta}(x^{(i)})) - (1 - y^{(i)})log(1 - (h_{\\Theta}(x^{(i)}))] + \\frac{\\lambda}{2m} \\sum_{j=1}^n \\Theta_j^2$"
   ]
  },
  {
   "cell_type": "code",
   "execution_count": 50,
   "metadata": {},
   "outputs": [],
   "source": [
    "def cost_func_regularized(X, y, weights, reg_L=1):\n",
    "    weights = roll(weights)\n",
    "    reg = 0\n",
    "    cost = cost_func(X, y, weights)\n",
    "\n",
    "    for theta in weights:\n",
    "        theta_R = theta[:, 1:]\n",
    "        reg += (theta_R ** 2).sum()\n",
    "\n",
    "    return cost + (reg_L / 2 / y.shape[0]) * reg"
   ]
  },
  {
   "cell_type": "markdown",
   "metadata": {},
   "source": [
    "## 8. Реализуйте функцию вычисления производной для функции активации."
   ]
  },
  {
   "cell_type": "code",
   "execution_count": 51,
   "metadata": {},
   "outputs": [],
   "source": [
    "def activation_der(act):\n",
    "    return act * (1 - act)"
   ]
  },
  {
   "cell_type": "markdown",
   "metadata": {},
   "source": [
    "## 9. Инициализируйте веса небольшими случайными числами.\n"
   ]
  },
  {
   "cell_type": "code",
   "execution_count": 72,
   "metadata": {},
   "outputs": [],
   "source": [
    "def init_weights_for_layer(l_in, l_out):\n",
    "    epi = (6**1/2) / (l_in + l_out)**1/2\n",
    "    \n",
    "    return np.random.rand(l_out, l_in +1) * (2*epi) - epi"
   ]
  },
  {
   "cell_type": "code",
   "execution_count": 73,
   "metadata": {},
   "outputs": [],
   "source": [
    "def init_weights():\n",
    "    weights = []\n",
    "\n",
    "    for idx in range(len(network_struct) - 1):\n",
    "        layer_out = network_struct[idx + 1] + 1\n",
    "        layer_in = network_struct[idx]\n",
    "        weights.append(init_weights_for_layer(layer_in, layer_out))\n",
    "\n",
    "    return unroll(weights)"
   ]
  },
  {
   "cell_type": "code",
   "execution_count": 74,
   "metadata": {},
   "outputs": [],
   "source": [
    "INIT_EPS = 1e-2\n",
    "\n",
    "def initialize_weights():\n",
    "    weights = []\n",
    "\n",
    "    for i in range(len(s_L) - 1):\n",
    "        theta = np.random.random((s_L[i + 1], s_L[i] + 1)) * 2 * INIT_EPS - INIT_EPS\n",
    "        weights.append(theta)\n",
    "\n",
    "    return unroll(weights)"
   ]
  },
  {
   "cell_type": "markdown",
   "metadata": {},
   "source": [
    "One effective strategy for choosing $\\epsilon_{init}$ is to base it on the number of units in the network\n",
    "\n",
    "$\\epsilon_{init} = \\frac{\\sqrt{6}}{\\sqrt{L_{in} + L_{out}}}$"
   ]
  },
  {
   "cell_type": "markdown",
   "metadata": {},
   "source": [
    "## 10. Реализуйте алгоритм обратного распространения ошибки для данной конфигурации сети."
   ]
  },
  {
   "cell_type": "code",
   "execution_count": 54,
   "metadata": {},
   "outputs": [],
   "source": [
    "def back_prop(X, y, weights, reg_L=0):\n",
    "    M = y.shape[0]\n",
    "    L = len(weights)\n",
    "    act = forward_propagation(X, weights, cache=True)\n",
    "    Deltas = [np.zeros(theta.shape) for theta in weights]\n",
    "    \n",
    "    for i in range(M):\n",
    "        delta_L = y[i] - act[-1][i]\n",
    "        deltas = [delta_L]\n",
    "\n",
    "        for l in reversed(range(1, L)):\n",
    "            d = np.dot(weights[l].T, deltas[-1]) * activation_der(insert_ones(act[l][i]))\n",
    "            deltas.append(d[1:])\n",
    "\n",
    "        deltas = list(reversed(deltas))\n",
    "        for l in range(L):\n",
    "            Deltas[l] = Deltas[l] + np.dot(deltas[l].reshape((-1,1)), insert_ones(act[l][i]).reshape((1, -1)))\n",
    "    \n",
    "    D = []\n",
    "    for l, Delta_l in enumerate(Deltas):\n",
    "        D_l = Delta_l / M\n",
    "        D_l[:, 1:] += reg_L * weights[l][:, 1:]\n",
    "        D.append(D_l)\n",
    "    \n",
    "    return D"
   ]
  },
  {
   "cell_type": "markdown",
   "metadata": {},
   "source": [
    "## 11. Для того, чтобы удостоверится в правильности вычисленных значений градиентов используйте метод проверки градиента с параметром ε = 10-4.\n"
   ]
  },
  {
   "cell_type": "code",
   "execution_count": 55,
   "metadata": {},
   "outputs": [],
   "source": [
    "GRAD_EPS = 1e-4\n",
    "\n",
    "def check_gradient(X, y, thetas, D_vec, edge=500):\n",
    "    def J(theta):\n",
    "        return cost_func_regularized(X, y, theta)\n",
    "\n",
    "    N = min(len(thetas), edge)\n",
    "    grad_approx = np.zeros(N)\n",
    "\n",
    "    for i in range(N):\n",
    "        theta_plus, theta_minus = thetas.copy(), thetas.copy()\n",
    "        theta_plus[i] += GRAD_EPS\n",
    "        theta_minus[i] -= GRAD_EPS\n",
    "        grad_approx[i] = (J(theta_plus) - J(theta_minus)) / (2 * GRAD_EPS)\n",
    "\n",
    "    return np.allclose(grad_approx, D_vec[:N], atol=1)"
   ]
  },
  {
   "cell_type": "code",
   "execution_count": 57,
   "metadata": {},
   "outputs": [
    {
     "data": {
      "text/plain": [
       "True"
      ]
     },
     "execution_count": 57,
     "metadata": {},
     "output_type": "execute_result"
    }
   ],
   "source": [
    "Deltas = back_prop(x_train, y_one_hot, weights)\n",
    "\n",
    "check_gradient(x_train, y_one_hot, unroll(weights), unroll(Deltas))"
   ]
  },
  {
   "cell_type": "markdown",
   "metadata": {},
   "source": [
    "## 12. Добавьте L2-регуляризацию в процесс вычисления градиентов.\n"
   ]
  },
  {
   "cell_type": "markdown",
   "metadata": {},
   "source": [
    "Для 10-го задания мы реализовали функцию сразу с L2-регуляризацией."
   ]
  },
  {
   "cell_type": "markdown",
   "metadata": {},
   "source": [
    "## 13. Проверьте полученные значения градиента."
   ]
  },
  {
   "cell_type": "code",
   "execution_count": 61,
   "metadata": {},
   "outputs": [
    {
     "data": {
      "text/plain": [
       "True"
      ]
     },
     "execution_count": 61,
     "metadata": {},
     "output_type": "execute_result"
    }
   ],
   "source": [
    "check_gradient(x_train, y_one_hot, unroll(weights), unroll(Deltas))"
   ]
  },
  {
   "cell_type": "markdown",
   "metadata": {},
   "source": [
    "## 14. Обучите нейронную сеть с использованием градиентного спуска или других более эффективных методов оптимизации.\n"
   ]
  },
  {
   "cell_type": "code",
   "execution_count": 75,
   "metadata": {},
   "outputs": [],
   "source": [
    "def train(X, y, reg_L, l_rate=0.5, max_steps=1e+3, with_history=False):\n",
    "    history = []\n",
    "    cur_weights = initialize_weights()\n",
    "    cur_loss = cost_func_regularized(X, y, cur_weights, reg_L)\n",
    "\n",
    "    cur_step = 0\n",
    "    while cur_step < max_steps:\n",
    "        cur_step += 1\n",
    "        new_weights = update_weights(X, y, cur_weights, l_rate, reg_L)\n",
    "        new_loss = cost_func_regularized(X, y, new_weights, reg_L)\n",
    "\n",
    "        if np.isnan(new_loss):\n",
    "            break\n",
    "\n",
    "        history.append((new_weights, new_loss))\n",
    "        cur_weights = new_weights\n",
    "        cur_loss = new_loss\n",
    "\n",
    "    if with_history:\n",
    "        return history\n",
    "    \n",
    "    return cur_weights\n",
    "\n",
    "\n",
    "def update_weights(X, y, weights, l_rate, reg_L):\n",
    "    gradient = unroll(back_prop(X, y, roll(weights), reg_L))\n",
    "    gradient *= l_rate\n",
    "    return weights + gradient"
   ]
  },
  {
   "cell_type": "code",
   "execution_count": 76,
   "metadata": {},
   "outputs": [],
   "source": [
    "grad_weights = train(x_train, y_one_hot, reg_L=0.003, l_rate=0.5)"
   ]
  },
  {
   "cell_type": "markdown",
   "metadata": {},
   "source": [
    "## 15. Вычислите процент правильных классификаций на обучающей выборке.\n"
   ]
  },
  {
   "cell_type": "code",
   "execution_count": 78,
   "metadata": {},
   "outputs": [
    {
     "name": "stdout",
     "output_type": "stream",
     "text": [
      "Accuracy on training set: 0.9452\n"
     ]
    }
   ],
   "source": [
    "hypotesis = forward_propagation(x_train, roll(grad_weights))\n",
    "acc = accuracy(hypotesis, y_train)\n",
    "print(f\"Accuracy on training set: {acc}\")"
   ]
  },
  {
   "cell_type": "markdown",
   "metadata": {},
   "source": [
    "## 16. Визуализируйте скрытый слой обученной сети."
   ]
  },
  {
   "cell_type": "code",
   "execution_count": 80,
   "metadata": {},
   "outputs": [],
   "source": [
    "def plot_hidden_layer(X, w):\n",
    "    hyp = forward_propagation(X, roll(w), cache=True)\n",
    "    print(f\"Accuracy on training set: {accuracy(hyp[-1], y_train)}\")\n",
    "    hidden_layer = hyp[1]\n",
    "    \n",
    "    nums = list(range(150, 5000, 250))\n",
    "    size = int(np.sqrt(hidden_layer.shape[1]))\n",
    "    pictures = [hidden_layer[i].reshape((size, size)) for i in nums]\n",
    "\n",
    "    fig, axs = plt.subplots(1, 20, figsize=(20, 0.85))\n",
    "    for i, ax in enumerate(axs.flatten()):\n",
    "        ax.pcolor(pictures[i], cmap=cm.gray)\n",
    "        ax.axis('off')\n",
    "\n",
    "    plt.show()"
   ]
  },
  {
   "cell_type": "code",
   "execution_count": 82,
   "metadata": {},
   "outputs": [
    {
     "name": "stdout",
     "output_type": "stream",
     "text": [
      "Accuracy on training set: 0.9452\n"
     ]
    },
    {
     "data": {
      "image/png": "[encoded data removed]",
      "text/plain": [
       "<Figure size 1440x61.2 with 20 Axes>"
      ]
     },
     "metadata": {
      "needs_background": "light"
     },
     "output_type": "display_data"
    }
   ],
   "source": [
    "plot_hidden_layer(x_train, grad_weights)"
   ]
  },
  {
   "cell_type": "markdown",
   "metadata": {},
   "source": [
    "## 17. Подберите параметр регуляризации. Как меняются изображения на скрытом слое в зависимости от данного параметра?"
   ]
  },
  {
   "cell_type": "code",
   "execution_count": 85,
   "metadata": {
    "scrolled": false
   },
   "outputs": [
    {
     "name": "stderr",
     "output_type": "stream",
     "text": [
      "/Users/anton/Documents/Maga/ml_venv/lib/python3.7/site-packages/ipykernel_launcher.py:2: RuntimeWarning: overflow encountered in power\n",
      "  \n"
     ]
    },
    {
     "name": "stdout",
     "output_type": "stream",
     "text": [
      "Accuracy on training set: 0.09999999999999998\n"
     ]
    },
    {
     "data": {
      "image/png": "[encoded data removed]",
      "text/plain": [
       "<Figure size 1440x61.2 with 20 Axes>"
      ]
     },
     "metadata": {
      "needs_background": "light"
     },
     "output_type": "display_data"
    },
    {
     "name": "stdout",
     "output_type": "stream",
     "text": [
      "Accuracy on training set: 0.1038\n"
     ]
    },
    {
     "data": {
      "image/png": "[encoded data removed]",
      "text/plain": [
       "<Figure size 1440x61.2 with 20 Axes>"
      ]
     },
     "metadata": {
      "needs_background": "light"
     },
     "output_type": "display_data"
    },
    {
     "name": "stdout",
     "output_type": "stream",
     "text": [
      "Accuracy on training set: 0.2882\n"
     ]
    },
    {
     "data": {
      "image/png": "[encoded data removed]",
      "text/plain": [
       "<Figure size 1440x61.2 with 20 Axes>"
      ]
     },
     "metadata": {
      "needs_background": "light"
     },
     "output_type": "display_data"
    },
    {
     "name": "stderr",
     "output_type": "stream",
     "text": [
      "/Users/anton/Documents/Maga/ml_venv/lib/python3.7/site-packages/ipykernel_launcher.py:9: RuntimeWarning: divide by zero encountered in log\n",
      "  if __name__ == '__main__':\n",
      "/Users/anton/Documents/Maga/ml_venv/lib/python3.7/site-packages/ipykernel_launcher.py:9: RuntimeWarning: invalid value encountered in multiply\n",
      "  if __name__ == '__main__':\n"
     ]
    },
    {
     "name": "stdout",
     "output_type": "stream",
     "text": [
      "Accuracy on training set: 0.8576\n"
     ]
    },
    {
     "data": {
      "image/png": "[encoded data removed]",
      "text/plain": [
       "<Figure size 1440x61.2 with 20 Axes>"
      ]
     },
     "metadata": {
      "needs_background": "light"
     },
     "output_type": "display_data"
    },
    {
     "name": "stdout",
     "output_type": "stream",
     "text": [
      "Accuracy on training set: 0.9134\n"
     ]
    },
    {
     "data": {
      "image/png": "[encoded data removed]",
      "text/plain": [
       "<Figure size 1440x61.2 with 20 Axes>"
      ]
     },
     "metadata": {
      "needs_background": "light"
     },
     "output_type": "display_data"
    },
    {
     "name": "stdout",
     "output_type": "stream",
     "text": [
      "Accuracy on training set: 0.9432\n"
     ]
    },
    {
     "data": {
      "image/png": "[encoded data removed]",
      "text/plain": [
       "<Figure size 1440x61.2 with 20 Axes>"
      ]
     },
     "metadata": {
      "needs_background": "light"
     },
     "output_type": "display_data"
    }
   ],
   "source": [
    "reg_L_list = [1, 0.3, 0.1, 0.03, 0.01, 0.003]\n",
    "steps = [20, 50, 75, 400, 600, 1000]\n",
    "\n",
    "for i, reg_l in enumerate(reg_L_list):\n",
    "    weights_l = train(x_train, y_one_hot, reg_L=reg_l, l_rate=0.5, max_steps=steps[i])\n",
    "    plot_hidden_layer(x_train, weights_l)"
   ]
  },
  {
   "cell_type": "markdown",
   "metadata": {},
   "source": [
    "О хорошо подобранном параметре регуляризации свидетельствуют изображения на скрытом слое: чем более разряженны изображения, тем лучше подобран параметр. Высокая точность нейронной сети свидетельствует о хорошо подобранном параметре регуляризации."
   ]
  },
  {
   "cell_type": "code",
   "execution_count": null,
   "metadata": {},
   "outputs": [],
   "source": []
  }
 ],
 "metadata": {
  "kernelspec": {
   "display_name": "Python 3",
   "language": "python",
   "name": "python3"
  },
  "language_info": {
   "codemirror_mode": {
    "name": "ipython",
    "version": 3
   },
   "file_extension": ".py",
   "mimetype": "text/x-python",
   "name": "python",
   "nbconvert_exporter": "python",
   "pygments_lexer": "ipython3",
   "version": "3.7.5"
  }
 },
 "nbformat": 4,
 "nbformat_minor": 2
}
