{
 "cells": [
  {
   "cell_type": "markdown",
   "metadata": {},
   "source": [
    "# Лабораторная работа №9 “Рекомендательные системы”\n"
   ]
  },
  {
   "cell_type": "code",
   "execution_count": 52,
   "metadata": {},
   "outputs": [],
   "source": [
    "import numpy as np\n",
    "from scipy.sparse.linalg import svds\n",
    "from scipy.io import loadmat"
   ]
  },
  {
   "cell_type": "markdown",
   "metadata": {},
   "source": [
    "## 1. Загрузите данные ex9_movies.mat из файла."
   ]
  },
  {
   "cell_type": "code",
   "execution_count": 53,
   "metadata": {},
   "outputs": [],
   "source": [
    "mat = loadmat('data/ex9_movies.mat')\n",
    "R = mat['R']\n",
    "Y = mat['Y']"
   ]
  },
  {
   "cell_type": "markdown",
   "metadata": {},
   "source": [
    "## 2. Выберите число признаков фильмов (n) для реализации алгоритма коллаборативной фильтрации.\n"
   ]
  },
  {
   "cell_type": "code",
   "execution_count": 54,
   "metadata": {},
   "outputs": [],
   "source": [
    "NUM_FEATURES = 15"
   ]
  },
  {
   "cell_type": "markdown",
   "metadata": {},
   "source": [
    "## 3. Реализуйте функцию стоимости для алгоритма.\n",
    "CollaborativeFiltering.cost_func\n",
    "\n",
    "Функция стоимости:\n",
    "\n",
    "$J(x^{(i)},...,x^{(n_m)},\\Theta^{(I)},...,\\Theta^{(n_u)}) = \\frac{1}{2} \\sum ((\\Theta^{(j)})^Tx^{(i)} - y^{(i,j)})^2 + (\\frac{\\lambda}{2} \\sum^{n_u}_{j=1}\\sum^n_{k=1} (\\Theta^{(j)}_k)^2) + (\\frac{\\lambda}{2} \\sum^{n_m}_{i=1}\\sum^n_{k=1} (x^{(i)}_k)^2)$\n",
    "\n",
    "Вычисление градиента:\n",
    "\n",
    "$\\frac{\\partial J}{\\partial x^{(i)}_k} = \\sum ((\\Theta^{(j)})^Tx^{(i)} - y^{(i,j)})\\Theta_k^{(j)} +\\lambda x^{(i)}_k$\n",
    "\n",
    "$\\frac{\\partial J}{\\partial \\Theta^{(j)}_k} = \\sum ((\\Theta^{(j)})^Tx^{(i)} - y^{(i,j)})x_k^{(i)} +\\lambda \\Theta^{(j)}_k$"
   ]
  },
  {
   "cell_type": "code",
   "execution_count": 55,
   "metadata": {},
   "outputs": [],
   "source": [
    "class CollaborativeFiltering:\n",
    "    def __init__(self, num_features=NUM_FEATURES, gradient_step=0.5, reg_lambda=0.1, max_iters=5000):\n",
    "        self.num_features = num_features\n",
    "        self.gradient_step = gradient_step\n",
    "        self.reg_lambda = reg_lambda\n",
    "        self.max_iters = max_iters\n",
    "    \n",
    "    def cost_func(self, Y, R):\n",
    "        hypotesis = np.dot(self.X, self.Theta)\n",
    "        mean_error = R * (hypotesis - Y)\n",
    "        mean_squared_error = mean_error ** 2\n",
    "        cost = mean_squared_error.sum() / 2\n",
    "        regularized_cost = cost + (self.reg_lambda / 2) * ((self.X ** 2).sum() + (self.Theta ** 2).sum())\n",
    "        return regularized_cost\n",
    "\n",
    "    def gradient_descent(self, Y, R):\n",
    "        hypotesis = np.dot(self.X, self.Theta)\n",
    "        mean_error = R * (hypotesis - Y)\n",
    "        dX = np.dot(mean_error, self.Theta.T)\n",
    "        dTheta = np.dot(self.X.T, mean_error)\n",
    "        regularized_dX = dX + self.reg_lambda * self.X\n",
    "        regularized_dTheta = dTheta + self.reg_lambda * self.Theta\n",
    "        self.X -= self.gradient_step * regularized_dX\n",
    "        self.Theta -= self.gradient_step * regularized_dTheta\n",
    "\n",
    "    def fit(self, Y, R):\n",
    "        self.n_m, self.n_u = Y.shape \n",
    "        self.X = np.random.rand(self.n_m, self.num_features)\n",
    "        self.Theta = np.random.rand(self.num_features, self.n_u)\n",
    "\n",
    "        for cur_step in range(self.max_iters):\n",
    "            self.gradient_descent(Y, R)\n",
    "            cost = self.cost_func(Y, R)\n",
    "\n",
    "    def predict(self, user_id, R, top=5):\n",
    "        predictions = np.dot(self.X, self.Theta)\n",
    "        user_ratings = (R[:, user_id] != 1) * predictions[:, user_id]\n",
    "        return user_ratings.argsort()[-top:][::-1]"
   ]
  },
  {
   "cell_type": "markdown",
   "metadata": {},
   "source": [
    "## 4. Реализуйте функцию вычисления градиентов.\n",
    "CollaborativeFiltering.gradient_descent"
   ]
  },
  {
   "cell_type": "markdown",
   "metadata": {},
   "source": [
    "## 5. При реализации используйте векторизацию для ускорения процесса обучения.\n",
    "Все функции, реализованные в классе CollaborativeFiltering используют векторизацию"
   ]
  },
  {
   "cell_type": "markdown",
   "metadata": {},
   "source": [
    "## 6. Добавьте L2-регуляризацию в модель.\n",
    "Функция стоимости(cost_func) реализована с L2-регуляризацией."
   ]
  },
  {
   "cell_type": "markdown",
   "metadata": {},
   "source": [
    "## 7. Обучите модель с помощью градиентного спуска или других методов оптимизации."
   ]
  },
  {
   "cell_type": "code",
   "execution_count": 56,
   "metadata": {},
   "outputs": [],
   "source": [
    "rec = CollaborativeFiltering(gradient_step=0.001, reg_lambda=10)\n",
    "rec.fit(Y, R)\n"
   ]
  },
  {
   "cell_type": "markdown",
   "metadata": {},
   "source": [
    "## 8. Добавьте несколько оценок фильмов от себя. Файл movie_ids.txt содержит индексы каждого из фильмов."
   ]
  },
  {
   "cell_type": "code",
   "execution_count": 57,
   "metadata": {},
   "outputs": [],
   "source": [
    "my_ratings, presence = np.zeros(Y.shape[0], dtype=int), np.zeros(R.shape[0], dtype=int)\n",
    "my_ratings[54], presence[54] = 5, 1 # Professional, The (1994)\n",
    "my_ratings[95], presence[95] = 5, 1  # Terminator 2: Judgment Day (1991)\n",
    "my_ratings[194], presence[194] = 5, 1  # Terminator, The (1984)\n",
    "my_ratings[585], presence[585] = 5, 1  # Terminal Velocity (1994)\n",
    "my_ratings[942], presence[942] = 5, 1  # Killing Zoe (1994)\n",
    "my_ratings[540], presence[540] = 5, 1 # Mortal Kombat (1995)\n",
    "my_ratings[1216], presence[1216] = 5, 1  # Assassins (1995)\n",
    "my_ratings[312], presence[312] = 1, 1  # Titanic (1997)\n",
    "my_ratings[318], presence[318] = 1, 1  # Everyone Says I Love You (1996)\n",
    "my_ratings[725], presence[725] = 1, 1  # Fluke (1995)\n",
    "\n",
    "my_Y = np.column_stack((Y, my_ratings))\n",
    "my_R = np.column_stack((R, presence))\n",
    "user_id = my_Y.shape[1] - 1"
   ]
  },
  {
   "cell_type": "markdown",
   "metadata": {},
   "source": [
    "## 9. Сделайте рекомендации для себя. Совпали ли они с реальностью?"
   ]
  },
  {
   "cell_type": "code",
   "execution_count": 58,
   "metadata": {},
   "outputs": [],
   "source": [
    "rec = CollaborativeFiltering(gradient_step=0.001, reg_lambda=10)\n",
    "rec.fit(my_Y, my_R)"
   ]
  },
  {
   "cell_type": "code",
   "execution_count": 59,
   "metadata": {},
   "outputs": [],
   "source": [
    "top_movies = rec.predict(user_id, my_R, top=5)"
   ]
  },
  {
   "cell_type": "code",
   "execution_count": 60,
   "metadata": {},
   "outputs": [
    {
     "name": "stdout",
     "output_type": "stream",
     "text": [
      "168 Monty Python and the Holy Grail (1974)\n",
      "173 Princess Bride, The (1987)\n",
      "89 Blade Runner (1982)\n",
      "250 Fifth Element, The (1997)\n",
      "172 Empire Strikes Back, The (1980)\n"
     ]
    }
   ],
   "source": [
    "with open('data/movie_ids.txt', errors='ignore') as f:\n",
    "    movie_names = f.read().split('\\n')[:-1]\n",
    "\n",
    "for movie in np.array(movie_names)[top_movies]:\n",
    "    print(movie)"
   ]
  },
  {
   "cell_type": "markdown",
   "metadata": {},
   "source": [
    "Все рекомендации совпадают с предпочтениями, которые мы обозначили хорошо оценивая боевики."
   ]
  },
  {
   "cell_type": "markdown",
   "metadata": {},
   "source": [
    "## 10. Также обучите модель с помощью сингулярного разложения матриц. Отличаются ли полученные результаты?\n"
   ]
  },
  {
   "cell_type": "code",
   "execution_count": 61,
   "metadata": {},
   "outputs": [],
   "source": [
    "class CollaborativeFilteringSVD(CollaborativeFiltering): \n",
    "    def fit(self, Y, R):\n",
    "        self.X, _, self.Theta = svds(Y.astype('float64'), k=NUM_FEATURES)"
   ]
  },
  {
   "cell_type": "code",
   "execution_count": 62,
   "metadata": {},
   "outputs": [
    {
     "name": "stdout",
     "output_type": "stream",
     "text": [
      "79 Fugitive, The (1993)\n",
      "22 Braveheart (1995)\n",
      "12 Usual Suspects, The (1995)\n",
      "568 Speed (1994)\n",
      "684 In the Line of Fire (1993)\n"
     ]
    }
   ],
   "source": [
    "svd_rec = CollaborativeFilteringSVD()\n",
    "svd_rec.fit(my_Y, my_R)\n",
    "top_mov = svd_rec.predict(user_id, my_R, top=5)\n",
    "for movie in np.array(movie_names)[top_mov]:\n",
    "    print(movie)"
   ]
  },
  {
   "cell_type": "markdown",
   "metadata": {},
   "source": [
    "Все рекомендации также совпадают с предпочтениями, которые мы обозначили хорошо оценивая боевики."
   ]
  }
 ],
 "metadata": {
  "kernelspec": {
   "display_name": "Python 3",
   "language": "python",
   "name": "python3"
  },
  "language_info": {
   "codemirror_mode": {
    "name": "ipython",
    "version": 3
   },
   "file_extension": ".py",
   "mimetype": "text/x-python",
   "name": "python",
   "nbconvert_exporter": "python",
   "pygments_lexer": "ipython3",
   "version": "3.7.5"
  }
 },
 "nbformat": 4,
 "nbformat_minor": 2
}
