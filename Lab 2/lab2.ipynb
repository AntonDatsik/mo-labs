{
 "cells": [
  {
   "cell_type": "code",
   "execution_count": 1,
   "metadata": {},
   "outputs": [],
   "source": [
    "import numpy as np\n",
    "import pandas as pd\n",
    "import matplotlib.pyplot as plt\n",
    "import matplotlib.cm as cm\n",
    "%matplotlib inline"
   ]
  },
  {
   "cell_type": "markdown",
   "metadata": {},
   "source": [
    "## 1. Загрузите данные ex2data1.txt из текстового файла."
   ]
  },
  {
   "cell_type": "code",
   "execution_count": 2,
   "metadata": {
    "scrolled": true
   },
   "outputs": [
    {
     "data": {
      "text/html": [
       "<div>\n",
       "<style scoped>\n",
       "    .dataframe tbody tr th:only-of-type {\n",
       "        vertical-align: middle;\n",
       "    }\n",
       "\n",
       "    .dataframe tbody tr th {\n",
       "        vertical-align: top;\n",
       "    }\n",
       "\n",
       "    .dataframe thead th {\n",
       "        text-align: right;\n",
       "    }\n",
       "</style>\n",
       "<table border=\"1\" class=\"dataframe\">\n",
       "  <thead>\n",
       "    <tr style=\"text-align: right;\">\n",
       "      <th></th>\n",
       "      <th>first_exam</th>\n",
       "      <th>second_exam</th>\n",
       "      <th>accepted</th>\n",
       "    </tr>\n",
       "  </thead>\n",
       "  <tbody>\n",
       "    <tr>\n",
       "      <td>0</td>\n",
       "      <td>34.623660</td>\n",
       "      <td>78.024693</td>\n",
       "      <td>0</td>\n",
       "    </tr>\n",
       "    <tr>\n",
       "      <td>1</td>\n",
       "      <td>30.286711</td>\n",
       "      <td>43.894998</td>\n",
       "      <td>0</td>\n",
       "    </tr>\n",
       "    <tr>\n",
       "      <td>2</td>\n",
       "      <td>35.847409</td>\n",
       "      <td>72.902198</td>\n",
       "      <td>0</td>\n",
       "    </tr>\n",
       "    <tr>\n",
       "      <td>3</td>\n",
       "      <td>60.182599</td>\n",
       "      <td>86.308552</td>\n",
       "      <td>1</td>\n",
       "    </tr>\n",
       "    <tr>\n",
       "      <td>4</td>\n",
       "      <td>79.032736</td>\n",
       "      <td>75.344376</td>\n",
       "      <td>1</td>\n",
       "    </tr>\n",
       "    <tr>\n",
       "      <td>...</td>\n",
       "      <td>...</td>\n",
       "      <td>...</td>\n",
       "      <td>...</td>\n",
       "    </tr>\n",
       "    <tr>\n",
       "      <td>95</td>\n",
       "      <td>83.489163</td>\n",
       "      <td>48.380286</td>\n",
       "      <td>1</td>\n",
       "    </tr>\n",
       "    <tr>\n",
       "      <td>96</td>\n",
       "      <td>42.261701</td>\n",
       "      <td>87.103851</td>\n",
       "      <td>1</td>\n",
       "    </tr>\n",
       "    <tr>\n",
       "      <td>97</td>\n",
       "      <td>99.315009</td>\n",
       "      <td>68.775409</td>\n",
       "      <td>1</td>\n",
       "    </tr>\n",
       "    <tr>\n",
       "      <td>98</td>\n",
       "      <td>55.340018</td>\n",
       "      <td>64.931938</td>\n",
       "      <td>1</td>\n",
       "    </tr>\n",
       "    <tr>\n",
       "      <td>99</td>\n",
       "      <td>74.775893</td>\n",
       "      <td>89.529813</td>\n",
       "      <td>1</td>\n",
       "    </tr>\n",
       "  </tbody>\n",
       "</table>\n",
       "<p>100 rows × 3 columns</p>\n",
       "</div>"
      ],
      "text/plain": [
       "    first_exam  second_exam  accepted\n",
       "0    34.623660    78.024693         0\n",
       "1    30.286711    43.894998         0\n",
       "2    35.847409    72.902198         0\n",
       "3    60.182599    86.308552         1\n",
       "4    79.032736    75.344376         1\n",
       "..         ...          ...       ...\n",
       "95   83.489163    48.380286         1\n",
       "96   42.261701    87.103851         1\n",
       "97   99.315009    68.775409         1\n",
       "98   55.340018    64.931938         1\n",
       "99   74.775893    89.529813         1\n",
       "\n",
       "[100 rows x 3 columns]"
      ]
     },
     "execution_count": 2,
     "metadata": {},
     "output_type": "execute_result"
    }
   ],
   "source": [
    "df = pd.read_csv('data/ex2data1.txt', header=None, names=['first_exam', 'second_exam', 'accepted'])\n",
    "x_train, y_train = df.filter(['first_exam', 'second_exam']), df['accepted']\n",
    "df"
   ]
  },
  {
   "cell_type": "markdown",
   "metadata": {},
   "source": [
    "## 2. Постройте график, где по осям откладываются оценки по предметам, а точки обозначаются двумя разными маркерами в зависимости от того, поступил ли данный студент в университет или нет."
   ]
  },
  {
   "cell_type": "code",
   "execution_count": 3,
   "metadata": {},
   "outputs": [
    {
     "data": {
      "image/png": "[encoded data removed]",
      "text/plain": [
       "<Figure size 432x288 with 1 Axes>"
      ]
     },
     "metadata": {
      "needs_background": "light"
     },
     "output_type": "display_data"
    }
   ],
   "source": [
    "df_accepted = df[df['accepted'] == 1]\n",
    "df_not_accepted = df[df['accepted'] == 0]\n",
    "fig, ax = plt.subplots()\n",
    "ax.scatter(df_accepted['first_exam'], df_accepted['second_exam'], marker='o', label='Accepted', s=20)\n",
    "ax.scatter(df_not_accepted['first_exam'], df_not_accepted['second_exam'], marker='o', c='r', label='Not accepted', s=20)\n",
    "ax.set_xlabel('1st exam')\n",
    "ax.set_ylabel('2nd exam')\n",
    "plt.show()"
   ]
  },
  {
   "cell_type": "markdown",
   "metadata": {},
   "source": [
    "## 3. Реализуйте функции потерь J(θ) и градиентного спуска для логистической регрессии с использованием векторизации."
   ]
  },
  {
   "cell_type": "code",
   "execution_count": 99,
   "metadata": {},
   "outputs": [],
   "source": [
    "# https://www.youtube.com/watch?v=HIQlmHxI6-0&list=PLLssT5z_DsK-h9vYZkQkYNWcItqhlRJLN&index=36&t=0s\n",
    "# https://www.youtube.com/watch?v=TTdcc21Ko9A&list=PLLssT5z_DsK-h9vYZkQkYNWcItqhlRJLN&index=37&t=0s\n",
    "\n",
    "THRESHOLD = 1e-8\n",
    "\n",
    "def sigmoid(z):\n",
    "    return 1 / (1 + np.e ** (-z))\n",
    "\n",
    "def h(x, theta):\n",
    "    return sigmoid(x.dot(theta))\n",
    "    \n",
    "def cost_func_vectorized(x, y, theta, **kwargs):\n",
    "    h_theta = h(x, theta)\n",
    "    cost_1 = y * np.log(h_theta)\n",
    "    cost_0 = (1 - y) * np.log(1 - h_theta)\n",
    "    return -np.mean(cost_1 + cost_0)\n",
    "\n",
    "def cost_func_deriative(x, y, theta, **kwargs):\n",
    "    h_v = h(x, theta)\n",
    "    gradient = np.dot(x.T, h(x, theta) - y)\n",
    "    gradient /= x.shape[0]\n",
    "    return gradient\n",
    "\n",
    "def gradient_descent_vectorized(x, y, theta, a=1, max_iter_count=30000,\n",
    "                                cost_func=cost_func_vectorized, cost_func_der=cost_func_deriative,\n",
    "                                **kwargs):\n",
    "    logs = []\n",
    "    last_loss = cost_func(x, y, theta)\n",
    "    for iter_num in range(max_iter_count):\n",
    "        gradient = cost_func_der(x, y, theta, **kwargs)\n",
    "        theta -= gradient * a\n",
    "        curr_loss = cost_func(x, y, theta, **kwargs)\n",
    "\n",
    "        logs.append([iter_num, curr_loss])\n",
    "\n",
    "        if abs(curr_loss - last_loss) < THRESHOLD:\n",
    "            break\n",
    "\n",
    "        last_loss = curr_loss\n",
    "\n",
    "    return theta, logs"
   ]
  },
  {
   "cell_type": "code",
   "execution_count": 5,
   "metadata": {},
   "outputs": [],
   "source": [
    "def fit(x_train, y_train, minimization_func=gradient_descent_vectorized, regularized=False,\n",
    "        cost_func=cost_func_vectorized, cost_func_der=cost_func_deriative, **kwargs):\n",
    "\n",
    "    x = getattr(x_train, 'values', x_train).astype('float64')\n",
    "    y = getattr(y_train, 'values', y_train).astype('float64')\n",
    "\n",
    "    if not regularized:\n",
    "        x = np.column_stack((np.ones(x.shape[0]), x))\n",
    "\n",
    "    theta = np.zeros(x.shape[1])\n",
    "    return minimization_func(x, y, theta, cost_func=cost_func,\n",
    "                             cost_func_der=cost_func_der, **kwargs)"
   ]
  },
  {
   "cell_type": "markdown",
   "metadata": {},
   "source": [
    "## 4. Реализуйте другие методы (как минимум 2) оптимизации для реализованной функции стоимости (например, Метод Нелдера — Мида, Алгоритм Бройдена — Флетчера — Гольдфарба — Шанно, генетические методы и т.п.). Разрешается использовать библиотечные реализации методов оптимизации (например, из библиотеки scipy)."
   ]
  },
  {
   "cell_type": "code",
   "execution_count": 6,
   "metadata": {},
   "outputs": [],
   "source": [
    "# Nelder-Mead method\n",
    "def nelder_mead_algo(x, y, theta, cost_func=cost_func_vectorized, **kwargs):\n",
    "    from scipy.optimize import fmin\n",
    "\n",
    "    res_theta = fmin(lambda theta: cost_func(x, y, theta),\n",
    "                        theta, xtol=THRESHOLD, maxfun=150000)\n",
    "    return res_theta, []\n",
    "\n",
    "# B-F-G-S method\n",
    "def bfgs_algo(x, y, theta, cost_func=cost_func_vectorized, cost_func_der=cost_func_deriative, **kwargs):\n",
    "    from scipy.optimize import fmin_bfgs\n",
    "\n",
    "    res_theta = fmin_bfgs(lambda theta: cost_func(x, y, theta),\n",
    "                          theta, fprime=lambda theta: cost_func_der(x, y, theta),\n",
    "                          gtol=THRESHOLD)\n",
    "    return res_theta, []"
   ]
  },
  {
   "cell_type": "code",
   "execution_count": 7,
   "metadata": {},
   "outputs": [
    {
     "name": "stdout",
     "output_type": "stream",
     "text": [
      "Optimization terminated successfully.\n",
      "         Current function value: 0.203498\n",
      "         Iterations: 25\n",
      "         Function evaluations: 33\n",
      "         Gradient evaluations: 33\n",
      "Optimization terminated successfully.\n",
      "         Current function value: 0.203498\n",
      "         Iterations: 198\n",
      "         Function evaluations: 379\n"
     ]
    },
    {
     "name": "stderr",
     "output_type": "stream",
     "text": [
      "/Users/anton/Documents/Maga/ml_venv/lib/python3.7/site-packages/ipykernel_launcher.py:15: RuntimeWarning: divide by zero encountered in log\n",
      "  from ipykernel import kernelapp as app\n",
      "/Users/anton/Documents/Maga/ml_venv/lib/python3.7/site-packages/ipykernel_launcher.py:15: RuntimeWarning: invalid value encountered in multiply\n",
      "  from ipykernel import kernelapp as app\n"
     ]
    },
    {
     "data": {
      "text/plain": [
       "(array([-25.16133374,   0.20623172,   0.2014716 ]), [])"
      ]
     },
     "execution_count": 7,
     "metadata": {},
     "output_type": "execute_result"
    }
   ],
   "source": [
    "fit(x_train, y_train, minimization_func=bfgs_algo)\n",
    "fit(x_train, y_train, minimization_func=nelder_mead_algo)"
   ]
  },
  {
   "cell_type": "markdown",
   "metadata": {},
   "source": [
    "## 5. Реализуйте функцию предсказания вероятности поступления студента в зависимости от значений оценок по экзаменам.\n"
   ]
  },
  {
   "cell_type": "code",
   "execution_count": 8,
   "metadata": {},
   "outputs": [],
   "source": [
    "def predict(x, theta, regularized=False):\n",
    "    x = np.array(x)\n",
    "    if not regularized:\n",
    "        x = np.insert(x, 0, 1)\n",
    "    h_value = h(x, theta)\n",
    "    return 1 if h_value >= 0.5 else 0"
   ]
  },
  {
   "cell_type": "markdown",
   "metadata": {},
   "source": [
    "## 6. Постройте разделяющую прямую, полученную в результате обучения модели. Совместите прямую с графиком из пункта 2."
   ]
  },
  {
   "cell_type": "code",
   "execution_count": 9,
   "metadata": {},
   "outputs": [
    {
     "data": {
      "image/png": "[encoded data removed]",
      "text/plain": [
       "<Figure size 432x288 with 1 Axes>"
      ]
     },
     "metadata": {
      "needs_background": "light"
     },
     "output_type": "display_data"
    },
    {
     "name": "stdout",
     "output_type": "stream",
     "text": [
      "Кол-во итераций: 134116\n"
     ]
    }
   ],
   "source": [
    "theta, logs = fit(x_train, y_train)\n",
    "\n",
    "def x2_func(x1, theta):\n",
    "    return -(theta[0] + theta[1] * x1) / theta[2]\n",
    "\n",
    "df_accepted = df[df['accepted'] == 1]\n",
    "df_not_accepted = df[df['accepted'] == 0]\n",
    "fig, ax = plt.subplots()\n",
    "ax.scatter(df_accepted['first_exam'], df_accepted['second_exam'], marker='o', label='Accepted', s=20)\n",
    "ax.scatter(df_not_accepted['first_exam'], df_not_accepted['second_exam'], marker='o', c='r', label='Not accepted', s=20)\n",
    "ax.plot(df_not_accepted['first_exam'],\n",
    "        [x2_func(i, theta) for i in df_not_accepted['first_exam']],\n",
    "        c='b', label='boundary')\n",
    "ax.set_xlabel('1st exam')\n",
    "ax.set_ylabel('2nd exam')\n",
    "plt.show()\n",
    "print(f'Кол-во итераций: {len(logs)}')"
   ]
  },
  {
   "cell_type": "markdown",
   "metadata": {},
   "source": [
    "## 7. Загрузите данные ex2data2.txt из текстового файла.\n"
   ]
  },
  {
   "cell_type": "code",
   "execution_count": 10,
   "metadata": {},
   "outputs": [
    {
     "data": {
      "text/html": [
       "<div>\n",
       "<style scoped>\n",
       "    .dataframe tbody tr th:only-of-type {\n",
       "        vertical-align: middle;\n",
       "    }\n",
       "\n",
       "    .dataframe tbody tr th {\n",
       "        vertical-align: top;\n",
       "    }\n",
       "\n",
       "    .dataframe thead th {\n",
       "        text-align: right;\n",
       "    }\n",
       "</style>\n",
       "<table border=\"1\" class=\"dataframe\">\n",
       "  <thead>\n",
       "    <tr style=\"text-align: right;\">\n",
       "      <th></th>\n",
       "      <th>first_test</th>\n",
       "      <th>second_test</th>\n",
       "      <th>passed</th>\n",
       "    </tr>\n",
       "  </thead>\n",
       "  <tbody>\n",
       "    <tr>\n",
       "      <td>0</td>\n",
       "      <td>0.051267</td>\n",
       "      <td>0.699560</td>\n",
       "      <td>1</td>\n",
       "    </tr>\n",
       "    <tr>\n",
       "      <td>1</td>\n",
       "      <td>-0.092742</td>\n",
       "      <td>0.684940</td>\n",
       "      <td>1</td>\n",
       "    </tr>\n",
       "    <tr>\n",
       "      <td>2</td>\n",
       "      <td>-0.213710</td>\n",
       "      <td>0.692250</td>\n",
       "      <td>1</td>\n",
       "    </tr>\n",
       "    <tr>\n",
       "      <td>3</td>\n",
       "      <td>-0.375000</td>\n",
       "      <td>0.502190</td>\n",
       "      <td>1</td>\n",
       "    </tr>\n",
       "    <tr>\n",
       "      <td>4</td>\n",
       "      <td>-0.513250</td>\n",
       "      <td>0.465640</td>\n",
       "      <td>1</td>\n",
       "    </tr>\n",
       "    <tr>\n",
       "      <td>...</td>\n",
       "      <td>...</td>\n",
       "      <td>...</td>\n",
       "      <td>...</td>\n",
       "    </tr>\n",
       "    <tr>\n",
       "      <td>113</td>\n",
       "      <td>-0.720620</td>\n",
       "      <td>0.538740</td>\n",
       "      <td>0</td>\n",
       "    </tr>\n",
       "    <tr>\n",
       "      <td>114</td>\n",
       "      <td>-0.593890</td>\n",
       "      <td>0.494880</td>\n",
       "      <td>0</td>\n",
       "    </tr>\n",
       "    <tr>\n",
       "      <td>115</td>\n",
       "      <td>-0.484450</td>\n",
       "      <td>0.999270</td>\n",
       "      <td>0</td>\n",
       "    </tr>\n",
       "    <tr>\n",
       "      <td>116</td>\n",
       "      <td>-0.006336</td>\n",
       "      <td>0.999270</td>\n",
       "      <td>0</td>\n",
       "    </tr>\n",
       "    <tr>\n",
       "      <td>117</td>\n",
       "      <td>0.632650</td>\n",
       "      <td>-0.030612</td>\n",
       "      <td>0</td>\n",
       "    </tr>\n",
       "  </tbody>\n",
       "</table>\n",
       "<p>118 rows × 3 columns</p>\n",
       "</div>"
      ],
      "text/plain": [
       "     first_test  second_test  passed\n",
       "0      0.051267     0.699560       1\n",
       "1     -0.092742     0.684940       1\n",
       "2     -0.213710     0.692250       1\n",
       "3     -0.375000     0.502190       1\n",
       "4     -0.513250     0.465640       1\n",
       "..          ...          ...     ...\n",
       "113   -0.720620     0.538740       0\n",
       "114   -0.593890     0.494880       0\n",
       "115   -0.484450     0.999270       0\n",
       "116   -0.006336     0.999270       0\n",
       "117    0.632650    -0.030612       0\n",
       "\n",
       "[118 rows x 3 columns]"
      ]
     },
     "execution_count": 10,
     "metadata": {},
     "output_type": "execute_result"
    }
   ],
   "source": [
    "df = pd.read_csv('data/ex2data2.txt', header=None, names=['first_test', 'second_test', 'passed'])\n",
    "x_train, y_train = df.filter(['first_test', 'second_test']), df['passed']\n",
    "df"
   ]
  },
  {
   "cell_type": "markdown",
   "metadata": {},
   "source": [
    "## 8. Постройте график, где по осям откладываются результаты тестов, а точки обозначаются двумя разными маркерами в зависимости от того, прошло ли изделие контроль или нет."
   ]
  },
  {
   "cell_type": "code",
   "execution_count": 11,
   "metadata": {},
   "outputs": [
    {
     "data": {
      "image/png": "[encoded data removed]",
      "text/plain": [
       "<Figure size 432x288 with 1 Axes>"
      ]
     },
     "metadata": {
      "needs_background": "light"
     },
     "output_type": "display_data"
    }
   ],
   "source": [
    "df_accepted = df[df['passed'] == 1]\n",
    "df_not_accepted = df[df['passed'] == 0]\n",
    "fig, ax = plt.subplots()\n",
    "ax.scatter(df_accepted['first_test'], df_accepted['second_test'], marker='o', label='Passed', s=20)\n",
    "ax.scatter(df_not_accepted['first_test'], df_not_accepted['second_test'], marker='o', c='r', label='Not passed', s=20)\n",
    "ax.set_xlabel('1st test')\n",
    "ax.set_ylabel('2nd test')\n",
    "plt.show()"
   ]
  },
  {
   "cell_type": "markdown",
   "metadata": {},
   "source": [
    "## 9. Постройте все возможные комбинации признаков x1 (результат первого теста) и x2 (результат второго теста), в которых степень полинома не превышает 6, т.е. 1, x1, x2, x12, x1x2, x22, …, x1x25, x26 (всего 28 комбинаций)."
   ]
  },
  {
   "cell_type": "code",
   "execution_count": 12,
   "metadata": {},
   "outputs": [],
   "source": [
    "def build_feature_for_pair(x1, x2, degree):\n",
    "    res = []\n",
    "    for i in range(degree + 1):\n",
    "            for j in range(i, degree + 1):\n",
    "                res.append(x1**(j - i) * x2**i)\n",
    "    return res\n",
    "\n",
    "def build_features(x1, x2, degree):\n",
    "    return [build_feature_for_pair(x1[idx], x2[idx], degree) for idx in range(len(x1))]"
   ]
  },
  {
   "cell_type": "code",
   "execution_count": 13,
   "metadata": {},
   "outputs": [],
   "source": [
    "extended_x_train = build_features(x_train['first_test'], x_train['second_test'], 6)\n",
    "extended_x_train = pd.DataFrame(extended_x_train)"
   ]
  },
  {
   "cell_type": "markdown",
   "metadata": {},
   "source": [
    "## 10. Реализуйте L2-регуляризацию для логистической регрессии и обучите ее на расширенном наборе признаков методом градиентного спуска."
   ]
  },
  {
   "cell_type": "code",
   "execution_count": 14,
   "metadata": {},
   "outputs": [],
   "source": [
    "# https://medium.com/datadriveninvestor/l1-l2-regularization-7f1b4fe948f2\n",
    "\n",
    "def cost_func_vectorized_reg_l2(x, y, theta, penalty_term=0.1):\n",
    "    cost = cost_func_vectorized(x, y, theta)\n",
    "    theta_sliced = theta[1:]\n",
    "    penalty_cost = (penalty_term / 2 / x.shape[0]) * np.dot(theta_sliced.T, theta_sliced)\n",
    "    return cost + penalty_cost\n",
    "\n",
    "def cost_func_deriative_reg_l2(x, y, theta, penalty_term=0.1):\n",
    "    err = h(x, theta) - y\n",
    "    grad = np.dot(x.T[:1], err)\n",
    "    grad_with_reg = np.dot(x.T[1:], err) + penalty_term * theta[1:]\n",
    "    grad = np.insert(grad_with_reg, 0, grad)\n",
    "    grad /= x.shape[0]\n",
    "    return grad"
   ]
  },
  {
   "cell_type": "code",
   "execution_count": 15,
   "metadata": {
    "scrolled": true
   },
   "outputs": [
    {
     "data": {
      "text/plain": [
       "(array([ 2.47044991,  1.65382342, -3.94598303,  0.60846478, -3.03470089,\n",
       "        -0.41870361, -2.27733632,  2.62767817, -2.69166142, -1.03075147,\n",
       "        -0.00732896, -0.52230883,  0.15169121, -3.36472317, -0.83139245,\n",
       "        -1.48613724,  0.07937035, -0.68211161, -0.22066692, -0.9332698 ,\n",
       "        -0.78201023,  0.10385866, -2.50869643, -0.91520568, -0.83383276,\n",
       "        -0.52838867, -0.60401967, -1.6019049 ]), 0.39766269795075404)"
      ]
     },
     "execution_count": 15,
     "metadata": {},
     "output_type": "execute_result"
    }
   ],
   "source": [
    "theta, logs = fit(extended_x_train, y_train, minimization_func=gradient_descent_vectorized,\n",
    "               regularized=True, cost_func=cost_func_vectorized_reg_l2, cost_func_der=cost_func_deriative_reg_l2)\n",
    "theta, logs[-1][1]"
   ]
  },
  {
   "cell_type": "markdown",
   "metadata": {},
   "source": [
    "## 11. Реализуйте другие методы оптимизации."
   ]
  },
  {
   "cell_type": "code",
   "execution_count": 16,
   "metadata": {
    "scrolled": true
   },
   "outputs": [
    {
     "name": "stdout",
     "output_type": "stream",
     "text": [
      "Optimization terminated successfully.\n",
      "         Current function value: 0.465545\n",
      "         Iterations: 27753\n",
      "         Function evaluations: 33382\n",
      "Optimization terminated successfully.\n",
      "         Current function value: 0.394594\n",
      "         Iterations: 136\n",
      "         Function evaluations: 137\n",
      "         Gradient evaluations: 137\n"
     ]
    },
    {
     "data": {
      "text/plain": [
       "(array([ 2.3127117 ,  0.60394044, -5.58035455,  2.431011  , -1.79607751,\n",
       "        -0.59007333, -0.52179195,  2.27876777, -1.82247495, -2.21304662,\n",
       "         1.52207541,  2.68708933, -1.28528444, -2.74410273, -2.97284783,\n",
       "         0.40094661,  2.10129466,  3.49785269, -1.78093335, -1.60371914,\n",
       "         1.36959552,  0.60179941, -1.66845555,  2.15891957, -1.36062064,\n",
       "        -0.08072131,  2.86706813,  0.04203006]),\n",
       " array([ 2.75388397,  1.80721584, -4.21449797,  0.74553063, -3.26575471,\n",
       "        -0.62160039, -2.63126755,  2.95666289, -3.3795092 , -1.07820308,\n",
       "         0.52791635, -0.47032487,  0.44537568, -4.22534326, -0.47234091,\n",
       "        -1.76305288,  0.62375524, -0.73621705, -0.49912867, -1.20788555,\n",
       "        -1.13701413,  0.42673693, -2.77794795, -1.21215545, -1.14910458,\n",
       "        -0.09178338, -0.95793641, -1.14890432]))"
      ]
     },
     "execution_count": 16,
     "metadata": {},
     "output_type": "execute_result"
    }
   ],
   "source": [
    "theta1, logs1 = fit(extended_x_train, y_train, minimization_func=nelder_mead_algo,\n",
    "                  regularized=True, cost_func=cost_func_vectorized_reg_l2)\n",
    "theta2, logs2 = fit(extended_x_train, y_train, minimization_func=bfgs_algo,\n",
    "                  regularized=True, cost_func=cost_func_vectorized_reg_l2, cost_func_der=cost_func_deriative_reg_l2)\n",
    "theta1, theta2"
   ]
  },
  {
   "cell_type": "markdown",
   "metadata": {},
   "source": [
    "## 12. Реализуйте функцию предсказания вероятности прохождения контроля изделием в зависимости от результатов тестов."
   ]
  },
  {
   "cell_type": "markdown",
   "metadata": {},
   "source": [
    "Функция predict реализована выше. (Задание 5)"
   ]
  },
  {
   "cell_type": "markdown",
   "metadata": {},
   "source": [
    "## 13. Постройте разделяющую кривую, полученную в результате обучения модели. Совместите прямую с графиком из пункта 7."
   ]
  },
  {
   "cell_type": "code",
   "execution_count": 17,
   "metadata": {},
   "outputs": [
    {
     "data": {
      "image/png": "[encoded data removed]",
      "text/plain": [
       "<Figure size 432x288 with 1 Axes>"
      ]
     },
     "metadata": {
      "needs_background": "light"
     },
     "output_type": "display_data"
    }
   ],
   "source": [
    "def draw_boder(theta):\n",
    "    u = np.linspace(-1, 1.2, 50)\n",
    "    v = np.linspace(-1, 1.3, 50)\n",
    "    z = np.zeros(shape=(len(u), len(v)))\n",
    "    for i in range(len(u)):\n",
    "        for j in range(len(v)):\n",
    "            features_list = build_feature_for_pair(np.array(u[i]), np.array(v[j]), degree=6)\n",
    "            np.mat(features_list).dot(theta)\n",
    "            z[i, j] = np.mat(features_list).dot(theta)\n",
    "\n",
    "    z = z.T\n",
    "\n",
    "    fig, ax = plt.subplots()\n",
    "    ax.contour(u, v, z, levels=0, colors='b')\n",
    "\n",
    "    df_accepted = df[df['passed'] == 1]\n",
    "    df_not_accepted = df[df['passed'] == 0]\n",
    "    ax.scatter(df_accepted['first_test'], df_accepted['second_test'], marker='o', label='Passed', s=20)\n",
    "    ax.scatter(df_not_accepted['first_test'], df_not_accepted['second_test'], marker='o', c='r', label='Not passed', s=20)\n",
    "    ax.set_xlabel('1st test')\n",
    "    ax.set_ylabel('2nd test')\n",
    "    plt.show()\n",
    "\n",
    "draw_boder(theta)"
   ]
  },
  {
   "cell_type": "markdown",
   "metadata": {},
   "source": [
    "## 14. Попробуйте различные значения параметра регуляризации λ. Как выбор данного значения влияет на вид разделяющей кривой? Ответ дайте в виде графиков.\n"
   ]
  },
  {
   "cell_type": "code",
   "execution_count": 18,
   "metadata": {},
   "outputs": [],
   "source": [
    "theta1, _ = fit(extended_x_train, y_train, minimization_func=gradient_descent_vectorized,\n",
    "               regularized=True, cost_func=cost_func_vectorized_reg_l2, cost_func_der=cost_func_deriative_reg_l2,\n",
    "               penalty_term=0.5)\n",
    "\n",
    "theta2, _ = fit(extended_x_train, y_train, minimization_func=gradient_descent_vectorized,\n",
    "               regularized=True, cost_func=cost_func_vectorized_reg_l2, cost_func_der=cost_func_deriative_reg_l2,\n",
    "               penalty_term=1)\n",
    "\n",
    "theta3, _ = fit(extended_x_train, y_train, minimization_func=gradient_descent_vectorized,\n",
    "               regularized=True, cost_func=cost_func_vectorized_reg_l2, cost_func_der=cost_func_deriative_reg_l2,\n",
    "               penalty_term=0)"
   ]
  },
  {
   "cell_type": "code",
   "execution_count": 19,
   "metadata": {
    "scrolled": false
   },
   "outputs": [
    {
     "data": {
      "image/png": "[encoded data removed]",
      "text/plain": [
       "<Figure size 432x288 with 1 Axes>"
      ]
     },
     "metadata": {
      "needs_background": "light"
     },
     "output_type": "display_data"
    },
    {
     "data": {
      "image/png": "[encoded data removed]",
      "text/plain": [
       "<Figure size 432x288 with 1 Axes>"
      ]
     },
     "metadata": {
      "needs_background": "light"
     },
     "output_type": "display_data"
    },
    {
     "data": {
      "image/png": "[encoded data removed]",
      "text/plain": [
       "<Figure size 432x288 with 1 Axes>"
      ]
     },
     "metadata": {
      "needs_background": "light"
     },
     "output_type": "display_data"
    }
   ],
   "source": [
    "draw_boder(theta1)\n",
    "draw_boder(theta2)\n",
    "draw_boder(theta3)"
   ]
  },
  {
   "cell_type": "markdown",
   "metadata": {},
   "source": [
    "## 15. Загрузите данные ex2data3.mat из файла."
   ]
  },
  {
   "cell_type": "code",
   "execution_count": 20,
   "metadata": {},
   "outputs": [],
   "source": [
    "from scipy.io import loadmat\n",
    "\n",
    "mat = loadmat('data/ex2data3.mat')\n",
    "x_train, y_train = mat['X'], mat['y']\n",
    "y_train = y_train.reshape(y_train.shape[0])\n",
    "y_train = np.where(y_train != 10, y_train, 0)"
   ]
  },
  {
   "cell_type": "markdown",
   "metadata": {},
   "source": [
    "## 15. Визуализируйте несколько случайных изображений из набора данных. Визуализация должна содержать каждую цифру как минимум один раз."
   ]
  },
  {
   "cell_type": "code",
   "execution_count": 21,
   "metadata": {},
   "outputs": [
    {
     "data": {
      "image/png": "[encoded data removed]",
      "text/plain": [
       "<Figure size 1440x576 with 10 Axes>"
      ]
     },
     "metadata": {
      "needs_background": "light"
     },
     "output_type": "display_data"
    }
   ],
   "source": [
    "def vector_to_matrix(x):\n",
    "    len_vec = len(x)\n",
    "    step = int(np.sqrt(len_vec))\n",
    "    matrix = [x[left:left+step] for left in range(0, len_vec, step)]\n",
    "    np_matrix = np.array(matrix).T\n",
    "    reversed_matrix = np.flip(np_matrix, axis=0)\n",
    "    return reversed_matrix\n",
    "\n",
    "nums = list(range(150, 5000, 500))\n",
    "pictures = [vector_to_matrix(x_train[i]) for i in nums]\n",
    "\n",
    "fig, axs = plt.subplots(2, 5, figsize=(20, 8))\n",
    "for i, ax in enumerate(axs.flatten()):\n",
    "    ax.pcolor(pictures[i], cmap=cm.gray)\n",
    "    res = y_train[nums[i]]\n",
    "    if res == 10:\n",
    "        res = 0\n",
    "    ax.set_title(f'Number {res}')\n",
    "\n",
    "plt.show()"
   ]
  },
  {
   "cell_type": "markdown",
   "metadata": {},
   "source": [
    "## 16. Реализуйте бинарный классификатор с помощью логистической регрессии с использованием векторизации (функции потерь и градиентного спуска).\n",
    "Было выполнено выше."
   ]
  },
  {
   "cell_type": "markdown",
   "metadata": {},
   "source": [
    "## 17. Добавьте L2-регуляризацию к модели.\n",
    "Было выполнено выше."
   ]
  },
  {
   "cell_type": "markdown",
   "metadata": {},
   "source": [
    "## 18. Реализуйте многоклассовую классификацию по методу “один против всех”."
   ]
  },
  {
   "cell_type": "code",
   "execution_count": 100,
   "metadata": {},
   "outputs": [],
   "source": [
    "import time\n",
    "class MultiClassifier:\n",
    "    def __init__(self):\n",
    "        self.thetas = []\n",
    "\n",
    "    def fit(self, x_train, y_train):\n",
    "        for i in range(10):\n",
    "            y_i_train = (y_train == i).astype(int)\n",
    "            start_time = time.time()\n",
    "            theta, logs = fit(x_train, y_i_train, minimization_func=gradient_descent_vectorized, regularized=True)\n",
    "            print(f'trained {i}', time.time() - start_time)\n",
    "            print(f'loss func {logs[-1][1]}')\n",
    "            self.thetas.append(theta)\n",
    "\n",
    "    def predict(self, x):\n",
    "        predictions = []\n",
    "        for theta in self.thetas:\n",
    "            predictions.append(h(x, theta))\n",
    "        \n",
    "        return np.argmax(np.array(predictions), axis=0)"
   ]
  },
  {
   "cell_type": "code",
   "execution_count": 101,
   "metadata": {
    "scrolled": true
   },
   "outputs": [
    {
     "name": "stdout",
     "output_type": "stream",
     "text": [
      "trained 0 71.1786150932312\n",
      "loss func 0.006911037961354453\n",
      "trained 1 60.524169921875\n",
      "loss func 0.008106438164563672\n",
      "trained 2 59.84246015548706\n",
      "loss func 0.048633318001316685\n",
      "trained 3 60.410317182540894\n",
      "loss func 0.06327870032957407\n",
      "trained 4 60.49494504928589\n",
      "loss func 0.026817677787345492\n",
      "trained 5 67.51234197616577\n",
      "loss func 0.047069799972334285\n",
      "trained 6 60.69632291793823\n",
      "loss func 0.013305677997684244\n",
      "trained 7 60.60066604614258\n",
      "loss func 0.0253995614965456\n",
      "trained 8 63.60757088661194\n",
      "loss func 0.11255046838173148\n",
      "trained 9 74.15731811523438\n",
      "loss func 0.07767526600663748\n"
     ]
    }
   ],
   "source": [
    "\n",
    "classifier = MultiClassifier()\n",
    "classifier.fit(x_train, y_train)"
   ]
  },
  {
   "cell_type": "markdown",
   "metadata": {},
   "source": [
    "## 19. Реализуйте функцию предсказания класса по изображению с использованием обученных классификаторов.\n",
    "Реализована в классе MultiClassifier."
   ]
  },
  {
   "cell_type": "markdown",
   "metadata": {},
   "source": [
    "## 20. Процент правильных классификаций на обучающей выборке должен составлять около 95%."
   ]
  },
  {
   "cell_type": "code",
   "execution_count": 104,
   "metadata": {},
   "outputs": [],
   "source": [
    "# a=1 max_iter_count=30000\n",
    "def accuracy(model, x, y):\n",
    "    results_diffs = model.predict(x) - y\n",
    "    incorrect_results = np.count_nonzero(results_diffs)\n",
    "    return 1 - (incorrect_results / len(results_diffs))"
   ]
  },
  {
   "cell_type": "code",
   "execution_count": 105,
   "metadata": {},
   "outputs": [
    {
     "name": "stdout",
     "output_type": "stream",
     "text": [
      "Accuracy: 0.9586\n"
     ]
    }
   ],
   "source": [
    "acc = accuracy(classifier, x_train, y_train)\n",
    "print(f\"Accuracy: {acc}\")"
   ]
  },
  {
   "cell_type": "code",
   "execution_count": null,
   "metadata": {},
   "outputs": [],
   "source": []
  }
 ],
 "metadata": {
  "kernelspec": {
   "display_name": "Python 3",
   "language": "python",
   "name": "python3"
  },
  "language_info": {
   "codemirror_mode": {
    "name": "ipython",
    "version": 3
   },
   "file_extension": ".py",
   "mimetype": "text/x-python",
   "name": "python",
   "nbconvert_exporter": "python",
   "pygments_lexer": "ipython3",
   "version": "3.7.5"
  }
 },
 "nbformat": 4,
 "nbformat_minor": 2
}
